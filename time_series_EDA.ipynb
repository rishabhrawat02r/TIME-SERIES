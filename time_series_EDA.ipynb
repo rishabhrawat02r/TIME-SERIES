{
 "cells": [
  {
   "cell_type": "markdown",
   "id": "7ba77055-aaab-4c60-b3e0-c7163c551d9d",
   "metadata": {},
   "source": [
    "## Time Series EDA"
   ]
  },
  {
   "cell_type": "code",
   "execution_count": 2,
   "id": "0f46ab30-8790-42ab-ba32-2ca19152e286",
   "metadata": {},
   "outputs": [],
   "source": [
    "import pandas_datareader as pdr\n",
    "import pandas as pd\n",
    "from datetime import datetime"
   ]
  },
  {
   "cell_type": "code",
   "execution_count": 3,
   "id": "366544bb-ef07-4f8d-8bd2-bb763acafed5",
   "metadata": {},
   "outputs": [
    {
     "name": "stderr",
     "output_type": "stream",
     "text": [
      "[*********************100%***********************]  1 of 1 completed\n"
     ]
    },
    {
     "data": {
      "text/html": [
       "<div>\n",
       "<style scoped>\n",
       "    .dataframe tbody tr th:only-of-type {\n",
       "        vertical-align: middle;\n",
       "    }\n",
       "\n",
       "    .dataframe tbody tr th {\n",
       "        vertical-align: top;\n",
       "    }\n",
       "\n",
       "    .dataframe thead th {\n",
       "        text-align: right;\n",
       "    }\n",
       "</style>\n",
       "<table border=\"1\" class=\"dataframe\">\n",
       "  <thead>\n",
       "    <tr style=\"text-align: right;\">\n",
       "      <th></th>\n",
       "      <th>Open</th>\n",
       "      <th>High</th>\n",
       "      <th>Low</th>\n",
       "      <th>Close</th>\n",
       "      <th>Adj Close</th>\n",
       "      <th>Volume</th>\n",
       "    </tr>\n",
       "    <tr>\n",
       "      <th>Date</th>\n",
       "      <th></th>\n",
       "      <th></th>\n",
       "      <th></th>\n",
       "      <th></th>\n",
       "      <th></th>\n",
       "      <th></th>\n",
       "    </tr>\n",
       "  </thead>\n",
       "  <tbody>\n",
       "    <tr>\n",
       "      <th>2010-06-29</th>\n",
       "      <td>1.266667</td>\n",
       "      <td>1.666667</td>\n",
       "      <td>1.169333</td>\n",
       "      <td>1.592667</td>\n",
       "      <td>1.592667</td>\n",
       "      <td>281494500</td>\n",
       "    </tr>\n",
       "    <tr>\n",
       "      <th>2010-06-30</th>\n",
       "      <td>1.719333</td>\n",
       "      <td>2.028000</td>\n",
       "      <td>1.553333</td>\n",
       "      <td>1.588667</td>\n",
       "      <td>1.588667</td>\n",
       "      <td>257806500</td>\n",
       "    </tr>\n",
       "    <tr>\n",
       "      <th>2010-07-01</th>\n",
       "      <td>1.666667</td>\n",
       "      <td>1.728000</td>\n",
       "      <td>1.351333</td>\n",
       "      <td>1.464000</td>\n",
       "      <td>1.464000</td>\n",
       "      <td>123282000</td>\n",
       "    </tr>\n",
       "    <tr>\n",
       "      <th>2010-07-02</th>\n",
       "      <td>1.533333</td>\n",
       "      <td>1.540000</td>\n",
       "      <td>1.247333</td>\n",
       "      <td>1.280000</td>\n",
       "      <td>1.280000</td>\n",
       "      <td>77097000</td>\n",
       "    </tr>\n",
       "    <tr>\n",
       "      <th>2010-07-06</th>\n",
       "      <td>1.333333</td>\n",
       "      <td>1.333333</td>\n",
       "      <td>1.055333</td>\n",
       "      <td>1.074000</td>\n",
       "      <td>1.074000</td>\n",
       "      <td>103003500</td>\n",
       "    </tr>\n",
       "    <tr>\n",
       "      <th>...</th>\n",
       "      <td>...</td>\n",
       "      <td>...</td>\n",
       "      <td>...</td>\n",
       "      <td>...</td>\n",
       "      <td>...</td>\n",
       "      <td>...</td>\n",
       "    </tr>\n",
       "    <tr>\n",
       "      <th>2024-08-30</th>\n",
       "      <td>208.630005</td>\n",
       "      <td>214.570007</td>\n",
       "      <td>207.029999</td>\n",
       "      <td>214.110001</td>\n",
       "      <td>214.110001</td>\n",
       "      <td>63370600</td>\n",
       "    </tr>\n",
       "    <tr>\n",
       "      <th>2024-09-03</th>\n",
       "      <td>215.259995</td>\n",
       "      <td>219.899994</td>\n",
       "      <td>209.639999</td>\n",
       "      <td>210.600006</td>\n",
       "      <td>210.600006</td>\n",
       "      <td>76500900</td>\n",
       "    </tr>\n",
       "    <tr>\n",
       "      <th>2024-09-04</th>\n",
       "      <td>210.589996</td>\n",
       "      <td>222.220001</td>\n",
       "      <td>210.570007</td>\n",
       "      <td>219.410004</td>\n",
       "      <td>219.410004</td>\n",
       "      <td>80651800</td>\n",
       "    </tr>\n",
       "    <tr>\n",
       "      <th>2024-09-05</th>\n",
       "      <td>223.490005</td>\n",
       "      <td>235.000000</td>\n",
       "      <td>222.250000</td>\n",
       "      <td>230.169998</td>\n",
       "      <td>230.169998</td>\n",
       "      <td>119355000</td>\n",
       "    </tr>\n",
       "    <tr>\n",
       "      <th>2024-09-06</th>\n",
       "      <td>232.600006</td>\n",
       "      <td>233.600006</td>\n",
       "      <td>210.509995</td>\n",
       "      <td>210.729996</td>\n",
       "      <td>210.729996</td>\n",
       "      <td>111652800</td>\n",
       "    </tr>\n",
       "  </tbody>\n",
       "</table>\n",
       "<p>3572 rows × 6 columns</p>\n",
       "</div>"
      ],
      "text/plain": [
       "                  Open        High         Low       Close   Adj Close  \\\n",
       "Date                                                                     \n",
       "2010-06-29    1.266667    1.666667    1.169333    1.592667    1.592667   \n",
       "2010-06-30    1.719333    2.028000    1.553333    1.588667    1.588667   \n",
       "2010-07-01    1.666667    1.728000    1.351333    1.464000    1.464000   \n",
       "2010-07-02    1.533333    1.540000    1.247333    1.280000    1.280000   \n",
       "2010-07-06    1.333333    1.333333    1.055333    1.074000    1.074000   \n",
       "...                ...         ...         ...         ...         ...   \n",
       "2024-08-30  208.630005  214.570007  207.029999  214.110001  214.110001   \n",
       "2024-09-03  215.259995  219.899994  209.639999  210.600006  210.600006   \n",
       "2024-09-04  210.589996  222.220001  210.570007  219.410004  219.410004   \n",
       "2024-09-05  223.490005  235.000000  222.250000  230.169998  230.169998   \n",
       "2024-09-06  232.600006  233.600006  210.509995  210.729996  210.729996   \n",
       "\n",
       "               Volume  \n",
       "Date                   \n",
       "2010-06-29  281494500  \n",
       "2010-06-30  257806500  \n",
       "2010-07-01  123282000  \n",
       "2010-07-02   77097000  \n",
       "2010-07-06  103003500  \n",
       "...               ...  \n",
       "2024-08-30   63370600  \n",
       "2024-09-03   76500900  \n",
       "2024-09-04   80651800  \n",
       "2024-09-05  119355000  \n",
       "2024-09-06  111652800  \n",
       "\n",
       "[3572 rows x 6 columns]"
      ]
     },
     "execution_count": 3,
     "metadata": {},
     "output_type": "execute_result"
    }
   ],
   "source": [
    "import yfinance as yf\n",
    "\n",
    "# Fetch data for Tesla\n",
    "tsla = yf.download('TSLA')\n",
    "\n",
    "\n",
    "tsla"
   ]
  },
  {
   "cell_type": "code",
   "execution_count": 10,
   "id": "86c9646e-f7fc-4195-b245-d5795aa11cd3",
   "metadata": {},
   "outputs": [
    {
     "data": {
      "text/plain": [
       "pandas.core.frame.DataFrame"
      ]
     },
     "execution_count": 10,
     "metadata": {},
     "output_type": "execute_result"
    }
   ],
   "source": [
    "type(tsla)"
   ]
  },
  {
   "cell_type": "code",
   "execution_count": 5,
   "id": "5547f71f-1520-4dcc-a795-2d8431404a4f",
   "metadata": {},
   "outputs": [
    {
     "data": {
      "text/plain": [
       "<Axes: xlabel='Date'>"
      ]
     },
     "execution_count": 5,
     "metadata": {},
     "output_type": "execute_result"
    },
    {
     "data": {
      "image/png": "[encoded data removed]",
      "text/plain": [
       "<Figure size 1200x400 with 1 Axes>"
      ]
     },
     "metadata": {},
     "output_type": "display_data"
    }
   ],
   "source": [
    "tsla['High'].plot(figsize=(12,4))"
   ]
  },
  {
   "cell_type": "code",
   "execution_count": 12,
   "id": "786a005c-92e7-42f3-a36d-35677626e670",
   "metadata": {},
   "outputs": [
    {
     "data": {
      "text/plain": [
       "<Axes: xlabel='Date'>"
      ]
     },
     "execution_count": 12,
     "metadata": {},
     "output_type": "execute_result"
    },
    {
     "data": {
      "image/png": "[encoded data removed]",
      "text/plain": [
       "<Figure size 1200x400 with 1 Axes>"
      ]
     },
     "metadata": {},
     "output_type": "display_data"
    }
   ],
   "source": [
    "#X LIMIT AND Y LIMIT\n",
    "tsla['High'].plot(xlim=['2020--1-01','2022-01-12'],figsize=(12,4))"
   ]
  },
  {
   "cell_type": "code",
   "execution_count": 7,
   "id": "d4f7b978-8a73-4998-82c2-438885f1cde7",
   "metadata": {},
   "outputs": [
    {
     "data": {
      "text/plain": [
       "<Axes: xlabel='Date'>"
      ]
     },
     "execution_count": 7,
     "metadata": {},
     "output_type": "execute_result"
    },
    {
     "data": {
      "image/png": "[encoded data removed]",
      "text/plain": [
       "<Figure size 1200x400 with 1 Axes>"
      ]
     },
     "metadata": {},
     "output_type": "display_data"
    }
   ],
   "source": [
    "#X LIMIT AND Y LIMIT and coloring\n",
    "tsla['High'].plot(xlim=['2020--1-01','2022-01-12'],ylim=[0,500],figsize=(12,4),c='green',ls=\"--\")"
   ]
  },
  {
   "cell_type": "code",
   "execution_count": 14,
   "id": "da4c3f1d-f7a6-42d1-b611-8f5670fe92cc",
   "metadata": {},
   "outputs": [
    {
     "data": {
      "text/plain": [
       "DatetimeIndex(['2010-06-29', '2010-06-30', '2010-07-01', '2010-07-02',\n",
       "               '2010-07-06', '2010-07-07', '2010-07-08', '2010-07-09',\n",
       "               '2010-07-12', '2010-07-13',\n",
       "               ...\n",
       "               '2024-08-23', '2024-08-26', '2024-08-27', '2024-08-28',\n",
       "               '2024-08-29', '2024-08-30', '2024-09-03', '2024-09-04',\n",
       "               '2024-09-05', '2024-09-06'],\n",
       "              dtype='datetime64[ns]', name='Date', length=3572, freq=None)"
      ]
     },
     "execution_count": 14,
     "metadata": {},
     "output_type": "execute_result"
    }
   ],
   "source": [
    "tsla.index"
   ]
  },
  {
   "cell_type": "code",
   "execution_count": 24,
   "id": "cf842bba-532f-497b-97d3-1385eea27f37",
   "metadata": {},
   "outputs": [],
   "source": [
    "index=tsla.loc['2020--1-01':'2022-01-12'].index\n",
    "share_open=tsla.loc['2020--1-01':'2022-01-12'] ['Open']"
   ]
  },
  {
   "cell_type": "code",
   "execution_count": 26,
   "id": "a336d42f-5285-45ab-84e6-ac9cf8dd2ea0",
   "metadata": {},
   "outputs": [
    {
     "data": {
      "text/plain": [
       "Date\n",
       "2020-01-02     28.299999\n",
       "2020-01-03     29.366667\n",
       "2020-01-06     29.364668\n",
       "2020-01-07     30.760000\n",
       "2020-01-08     31.580000\n",
       "                 ...    \n",
       "2022-01-06    359.000000\n",
       "2022-01-07    360.123322\n",
       "2022-01-10    333.333344\n",
       "2022-01-11    351.223328\n",
       "2022-01-12    359.616669\n",
       "Name: Open, Length: 513, dtype: float64"
      ]
     },
     "execution_count": 26,
     "metadata": {},
     "output_type": "execute_result"
    }
   ],
   "source": [
    "share_open"
   ]
  },
  {
   "cell_type": "code",
   "execution_count": 28,
   "id": "2a51733f-2a90-4d6a-80d8-cc6a5e549a19",
   "metadata": {},
   "outputs": [
    {
     "data": {
      "text/plain": [
       "DatetimeIndex(['2020-01-02', '2020-01-03', '2020-01-06', '2020-01-07',\n",
       "               '2020-01-08', '2020-01-09', '2020-01-10', '2020-01-13',\n",
       "               '2020-01-14', '2020-01-15',\n",
       "               ...\n",
       "               '2021-12-30', '2021-12-31', '2022-01-03', '2022-01-04',\n",
       "               '2022-01-05', '2022-01-06', '2022-01-07', '2022-01-10',\n",
       "               '2022-01-11', '2022-01-12'],\n",
       "              dtype='datetime64[ns]', name='Date', length=513, freq=None)"
      ]
     },
     "execution_count": 28,
     "metadata": {},
     "output_type": "execute_result"
    }
   ],
   "source": [
    "index"
   ]
  },
  {
   "cell_type": "code",
   "execution_count": 30,
   "id": "09b7576c-6e0c-4c74-abb3-7b994b03c9d6",
   "metadata": {},
   "outputs": [],
   "source": [
    "import matplotlib.pyplot as plt\n",
    "%matplotlib inline"
   ]
  },
  {
   "cell_type": "code",
   "execution_count": 62,
   "id": "74f08bc3-0745-466f-896c-95277f632e32",
   "metadata": {},
   "outputs": [
    {
     "data": {
      "image/png": "[encoded data removed]",
      "text/plain": [
       "<Figure size 640x480 with 1 Axes>"
      ]
     },
     "metadata": {},
     "output_type": "display_data"
    }
   ],
   "source": [
    "figure,axis=plt.subplots()\n",
    "plt.tight_layout()\n",
    "figure.autofmt_xdate()\n",
    "axis.plot(index,share_open)\n",
    "plt.show()"
   ]
  },
  {
   "cell_type": "code",
   "execution_count": 74,
   "id": "0c4da452-0947-4cd5-9f92-224638996dc2",
   "metadata": {},
   "outputs": [],
   "source": [
    "df=tsla.reset_index()"
   ]
  },
  {
   "cell_type": "code",
   "execution_count": 76,
   "id": "eeaa4df1-19a1-4ea2-b4a6-1d674d22cb18",
   "metadata": {},
   "outputs": [
    {
     "data": {
      "text/html": [
       "<div>\n",
       "<style scoped>\n",
       "    .dataframe tbody tr th:only-of-type {\n",
       "        vertical-align: middle;\n",
       "    }\n",
       "\n",
       "    .dataframe tbody tr th {\n",
       "        vertical-align: top;\n",
       "    }\n",
       "\n",
       "    .dataframe thead th {\n",
       "        text-align: right;\n",
       "    }\n",
       "</style>\n",
       "<table border=\"1\" class=\"dataframe\">\n",
       "  <thead>\n",
       "    <tr style=\"text-align: right;\">\n",
       "      <th></th>\n",
       "      <th>Date</th>\n",
       "      <th>Open</th>\n",
       "      <th>High</th>\n",
       "      <th>Low</th>\n",
       "      <th>Close</th>\n",
       "      <th>Adj Close</th>\n",
       "      <th>Volume</th>\n",
       "    </tr>\n",
       "  </thead>\n",
       "  <tbody>\n",
       "    <tr>\n",
       "      <th>0</th>\n",
       "      <td>2010-06-29</td>\n",
       "      <td>1.266667</td>\n",
       "      <td>1.666667</td>\n",
       "      <td>1.169333</td>\n",
       "      <td>1.592667</td>\n",
       "      <td>1.592667</td>\n",
       "      <td>281494500</td>\n",
       "    </tr>\n",
       "    <tr>\n",
       "      <th>1</th>\n",
       "      <td>2010-06-30</td>\n",
       "      <td>1.719333</td>\n",
       "      <td>2.028000</td>\n",
       "      <td>1.553333</td>\n",
       "      <td>1.588667</td>\n",
       "      <td>1.588667</td>\n",
       "      <td>257806500</td>\n",
       "    </tr>\n",
       "    <tr>\n",
       "      <th>2</th>\n",
       "      <td>2010-07-01</td>\n",
       "      <td>1.666667</td>\n",
       "      <td>1.728000</td>\n",
       "      <td>1.351333</td>\n",
       "      <td>1.464000</td>\n",
       "      <td>1.464000</td>\n",
       "      <td>123282000</td>\n",
       "    </tr>\n",
       "    <tr>\n",
       "      <th>3</th>\n",
       "      <td>2010-07-02</td>\n",
       "      <td>1.533333</td>\n",
       "      <td>1.540000</td>\n",
       "      <td>1.247333</td>\n",
       "      <td>1.280000</td>\n",
       "      <td>1.280000</td>\n",
       "      <td>77097000</td>\n",
       "    </tr>\n",
       "    <tr>\n",
       "      <th>4</th>\n",
       "      <td>2010-07-06</td>\n",
       "      <td>1.333333</td>\n",
       "      <td>1.333333</td>\n",
       "      <td>1.055333</td>\n",
       "      <td>1.074000</td>\n",
       "      <td>1.074000</td>\n",
       "      <td>103003500</td>\n",
       "    </tr>\n",
       "    <tr>\n",
       "      <th>...</th>\n",
       "      <td>...</td>\n",
       "      <td>...</td>\n",
       "      <td>...</td>\n",
       "      <td>...</td>\n",
       "      <td>...</td>\n",
       "      <td>...</td>\n",
       "      <td>...</td>\n",
       "    </tr>\n",
       "    <tr>\n",
       "      <th>3567</th>\n",
       "      <td>2024-08-30</td>\n",
       "      <td>208.630005</td>\n",
       "      <td>214.570007</td>\n",
       "      <td>207.029999</td>\n",
       "      <td>214.110001</td>\n",
       "      <td>214.110001</td>\n",
       "      <td>63370600</td>\n",
       "    </tr>\n",
       "    <tr>\n",
       "      <th>3568</th>\n",
       "      <td>2024-09-03</td>\n",
       "      <td>215.259995</td>\n",
       "      <td>219.899994</td>\n",
       "      <td>209.639999</td>\n",
       "      <td>210.600006</td>\n",
       "      <td>210.600006</td>\n",
       "      <td>76500900</td>\n",
       "    </tr>\n",
       "    <tr>\n",
       "      <th>3569</th>\n",
       "      <td>2024-09-04</td>\n",
       "      <td>210.589996</td>\n",
       "      <td>222.220001</td>\n",
       "      <td>210.570007</td>\n",
       "      <td>219.410004</td>\n",
       "      <td>219.410004</td>\n",
       "      <td>80651800</td>\n",
       "    </tr>\n",
       "    <tr>\n",
       "      <th>3570</th>\n",
       "      <td>2024-09-05</td>\n",
       "      <td>223.490005</td>\n",
       "      <td>235.000000</td>\n",
       "      <td>222.250000</td>\n",
       "      <td>230.169998</td>\n",
       "      <td>230.169998</td>\n",
       "      <td>119355000</td>\n",
       "    </tr>\n",
       "    <tr>\n",
       "      <th>3571</th>\n",
       "      <td>2024-09-06</td>\n",
       "      <td>232.600006</td>\n",
       "      <td>233.600006</td>\n",
       "      <td>210.509995</td>\n",
       "      <td>210.729996</td>\n",
       "      <td>210.729996</td>\n",
       "      <td>111652800</td>\n",
       "    </tr>\n",
       "  </tbody>\n",
       "</table>\n",
       "<p>3572 rows × 7 columns</p>\n",
       "</div>"
      ],
      "text/plain": [
       "           Date        Open        High         Low       Close   Adj Close  \\\n",
       "0    2010-06-29    1.266667    1.666667    1.169333    1.592667    1.592667   \n",
       "1    2010-06-30    1.719333    2.028000    1.553333    1.588667    1.588667   \n",
       "2    2010-07-01    1.666667    1.728000    1.351333    1.464000    1.464000   \n",
       "3    2010-07-02    1.533333    1.540000    1.247333    1.280000    1.280000   \n",
       "4    2010-07-06    1.333333    1.333333    1.055333    1.074000    1.074000   \n",
       "...         ...         ...         ...         ...         ...         ...   \n",
       "3567 2024-08-30  208.630005  214.570007  207.029999  214.110001  214.110001   \n",
       "3568 2024-09-03  215.259995  219.899994  209.639999  210.600006  210.600006   \n",
       "3569 2024-09-04  210.589996  222.220001  210.570007  219.410004  219.410004   \n",
       "3570 2024-09-05  223.490005  235.000000  222.250000  230.169998  230.169998   \n",
       "3571 2024-09-06  232.600006  233.600006  210.509995  210.729996  210.729996   \n",
       "\n",
       "         Volume  \n",
       "0     281494500  \n",
       "1     257806500  \n",
       "2     123282000  \n",
       "3      77097000  \n",
       "4     103003500  \n",
       "...         ...  \n",
       "3567   63370600  \n",
       "3568   76500900  \n",
       "3569   80651800  \n",
       "3570  119355000  \n",
       "3571  111652800  \n",
       "\n",
       "[3572 rows x 7 columns]"
      ]
     },
     "execution_count": 76,
     "metadata": {},
     "output_type": "execute_result"
    }
   ],
   "source": [
    "df"
   ]
  },
  {
   "cell_type": "code",
   "execution_count": 78,
   "id": "7c20b106-68de-4243-99b7-56d698c62fd7",
   "metadata": {},
   "outputs": [
    {
     "name": "stdout",
     "output_type": "stream",
     "text": [
      "<class 'pandas.core.frame.DataFrame'>\n",
      "RangeIndex: 3572 entries, 0 to 3571\n",
      "Data columns (total 7 columns):\n",
      " #   Column     Non-Null Count  Dtype         \n",
      "---  ------     --------------  -----         \n",
      " 0   Date       3572 non-null   datetime64[ns]\n",
      " 1   Open       3572 non-null   float64       \n",
      " 2   High       3572 non-null   float64       \n",
      " 3   Low        3572 non-null   float64       \n",
      " 4   Close      3572 non-null   float64       \n",
      " 5   Adj Close  3572 non-null   float64       \n",
      " 6   Volume     3572 non-null   int64         \n",
      "dtypes: datetime64[ns](1), float64(5), int64(1)\n",
      "memory usage: 195.5 KB\n"
     ]
    }
   ],
   "source": [
    "df.info()"
   ]
  },
  {
   "cell_type": "code",
   "execution_count": 80,
   "id": "17a54351-e1bd-40ae-9a0a-5c3b25835b5d",
   "metadata": {},
   "outputs": [],
   "source": [
    "#data time\n",
    "from datetime import datetime"
   ]
  },
  {
   "cell_type": "code",
   "execution_count": 84,
   "id": "0744bfca-346f-4a79-9af3-2d1cdb008230",
   "metadata": {},
   "outputs": [
    {
     "data": {
      "text/plain": [
       "datetime.datetime(2021, 11, 21, 0, 0)"
      ]
     },
     "execution_count": 84,
     "metadata": {},
     "output_type": "execute_result"
    }
   ],
   "source": [
    "datetime(2021,11,21)"
   ]
  },
  {
   "cell_type": "code",
   "execution_count": 86,
   "id": "2bbf9100-eb87-4460-aeac-10475e263b2f",
   "metadata": {},
   "outputs": [
    {
     "data": {
      "text/plain": [
       "datetime.datetime(2024, 9, 8, 11, 16, 1, 43947)"
      ]
     },
     "execution_count": 86,
     "metadata": {},
     "output_type": "execute_result"
    }
   ],
   "source": [
    "datetime.now()"
   ]
  },
  {
   "cell_type": "code",
   "execution_count": 88,
   "id": "af2374f2-338f-4958-b582-9b17173ecba2",
   "metadata": {},
   "outputs": [],
   "source": [
    "def add_num(num1,num2):\n",
    "    return num1+num2"
   ]
  },
  {
   "cell_type": "code",
   "execution_count": 96,
   "id": "b9d0b994-7564-4bec-82d5-77255d05cbba",
   "metadata": {},
   "outputs": [
    {
     "name": "stdout",
     "output_type": "stream",
     "text": [
      "0:00:00\n"
     ]
    }
   ],
   "source": [
    "start_time=datetime.now()\n",
    "num1=20\n",
    "num2=30\n",
    "\n",
    "    \n",
    "add_num=(num1,num2)\n",
    "end_time=datetime.now()\n",
    "print(end_time-start_time)"
   ]
  },
  {
   "cell_type": "code",
   "execution_count": 98,
   "id": "93288c59-4306-4d39-a516-0397721f2066",
   "metadata": {},
   "outputs": [
    {
     "data": {
      "text/plain": [
       "datetime.datetime(2021, 11, 21, 0, 0)"
      ]
     },
     "execution_count": 98,
     "metadata": {},
     "output_type": "execute_result"
    }
   ],
   "source": [
    "date=datetime(2021,11,21)\n",
    "date"
   ]
  },
  {
   "cell_type": "code",
   "execution_count": 100,
   "id": "40791076-7de0-4b27-84e6-2ac71c6e651f",
   "metadata": {},
   "outputs": [
    {
     "data": {
      "text/plain": [
       "21"
      ]
     },
     "execution_count": 100,
     "metadata": {},
     "output_type": "execute_result"
    }
   ],
   "source": [
    "date.day"
   ]
  },
  {
   "cell_type": "code",
   "execution_count": 102,
   "id": "77b5fdd4-ba55-46c1-a8c3-b21282effab7",
   "metadata": {},
   "outputs": [
    {
     "data": {
      "text/plain": [
       "6"
      ]
     },
     "execution_count": 102,
     "metadata": {},
     "output_type": "execute_result"
    }
   ],
   "source": [
    "date.weekday()"
   ]
  },
  {
   "cell_type": "code",
   "execution_count": 106,
   "id": "1e2da5a1-db7e-48a5-885c-9420b7ff8773",
   "metadata": {},
   "outputs": [
    {
     "data": {
      "text/plain": [
       "2021"
      ]
     },
     "execution_count": 106,
     "metadata": {},
     "output_type": "execute_result"
    }
   ],
   "source": [
    "date.year\n"
   ]
  },
  {
   "cell_type": "code",
   "execution_count": 108,
   "id": "d69ae67e-5979-4b77-b4cd-ce0736a5bfe9",
   "metadata": {},
   "outputs": [
    {
     "data": {
      "text/plain": [
       "11"
      ]
     },
     "execution_count": 108,
     "metadata": {},
     "output_type": "execute_result"
    }
   ],
   "source": [
    "date.month"
   ]
  },
  {
   "cell_type": "code",
   "execution_count": 110,
   "id": "57b576a3-5552-42ae-a7b7-4673deff5770",
   "metadata": {},
   "outputs": [
    {
     "data": {
      "text/plain": [
       "0"
      ]
     },
     "execution_count": 110,
     "metadata": {},
     "output_type": "execute_result"
    }
   ],
   "source": [
    "date.hour"
   ]
  },
  {
   "cell_type": "code",
   "execution_count": 112,
   "id": "3d5e7e6a-92ad-463e-ab58-1e93cfef3808",
   "metadata": {},
   "outputs": [
    {
     "data": {
      "text/html": [
       "<div>\n",
       "<style scoped>\n",
       "    .dataframe tbody tr th:only-of-type {\n",
       "        vertical-align: middle;\n",
       "    }\n",
       "\n",
       "    .dataframe tbody tr th {\n",
       "        vertical-align: top;\n",
       "    }\n",
       "\n",
       "    .dataframe thead th {\n",
       "        text-align: right;\n",
       "    }\n",
       "</style>\n",
       "<table border=\"1\" class=\"dataframe\">\n",
       "  <thead>\n",
       "    <tr style=\"text-align: right;\">\n",
       "      <th></th>\n",
       "      <th>Date</th>\n",
       "      <th>Open</th>\n",
       "      <th>High</th>\n",
       "      <th>Low</th>\n",
       "      <th>Close</th>\n",
       "      <th>Adj Close</th>\n",
       "      <th>Volume</th>\n",
       "    </tr>\n",
       "  </thead>\n",
       "  <tbody>\n",
       "    <tr>\n",
       "      <th>0</th>\n",
       "      <td>2010-06-29</td>\n",
       "      <td>1.266667</td>\n",
       "      <td>1.666667</td>\n",
       "      <td>1.169333</td>\n",
       "      <td>1.592667</td>\n",
       "      <td>1.592667</td>\n",
       "      <td>281494500</td>\n",
       "    </tr>\n",
       "    <tr>\n",
       "      <th>1</th>\n",
       "      <td>2010-06-30</td>\n",
       "      <td>1.719333</td>\n",
       "      <td>2.028000</td>\n",
       "      <td>1.553333</td>\n",
       "      <td>1.588667</td>\n",
       "      <td>1.588667</td>\n",
       "      <td>257806500</td>\n",
       "    </tr>\n",
       "    <tr>\n",
       "      <th>2</th>\n",
       "      <td>2010-07-01</td>\n",
       "      <td>1.666667</td>\n",
       "      <td>1.728000</td>\n",
       "      <td>1.351333</td>\n",
       "      <td>1.464000</td>\n",
       "      <td>1.464000</td>\n",
       "      <td>123282000</td>\n",
       "    </tr>\n",
       "    <tr>\n",
       "      <th>3</th>\n",
       "      <td>2010-07-02</td>\n",
       "      <td>1.533333</td>\n",
       "      <td>1.540000</td>\n",
       "      <td>1.247333</td>\n",
       "      <td>1.280000</td>\n",
       "      <td>1.280000</td>\n",
       "      <td>77097000</td>\n",
       "    </tr>\n",
       "    <tr>\n",
       "      <th>4</th>\n",
       "      <td>2010-07-06</td>\n",
       "      <td>1.333333</td>\n",
       "      <td>1.333333</td>\n",
       "      <td>1.055333</td>\n",
       "      <td>1.074000</td>\n",
       "      <td>1.074000</td>\n",
       "      <td>103003500</td>\n",
       "    </tr>\n",
       "  </tbody>\n",
       "</table>\n",
       "</div>"
      ],
      "text/plain": [
       "        Date      Open      High       Low     Close  Adj Close     Volume\n",
       "0 2010-06-29  1.266667  1.666667  1.169333  1.592667   1.592667  281494500\n",
       "1 2010-06-30  1.719333  2.028000  1.553333  1.588667   1.588667  257806500\n",
       "2 2010-07-01  1.666667  1.728000  1.351333  1.464000   1.464000  123282000\n",
       "3 2010-07-02  1.533333  1.540000  1.247333  1.280000   1.280000   77097000\n",
       "4 2010-07-06  1.333333  1.333333  1.055333  1.074000   1.074000  103003500"
      ]
     },
     "execution_count": 112,
     "metadata": {},
     "output_type": "execute_result"
    }
   ],
   "source": [
    "df.head()"
   ]
  },
  {
   "cell_type": "code",
   "execution_count": 122,
   "id": "e3d58b1d-7ed9-4079-aad9-87b9038879a0",
   "metadata": {},
   "outputs": [
    {
     "data": {
      "text/html": [
       "<div>\n",
       "<style scoped>\n",
       "    .dataframe tbody tr th:only-of-type {\n",
       "        vertical-align: middle;\n",
       "    }\n",
       "\n",
       "    .dataframe tbody tr th {\n",
       "        vertical-align: top;\n",
       "    }\n",
       "\n",
       "    .dataframe thead th {\n",
       "        text-align: right;\n",
       "    }\n",
       "</style>\n",
       "<table border=\"1\" class=\"dataframe\">\n",
       "  <thead>\n",
       "    <tr style=\"text-align: right;\">\n",
       "      <th></th>\n",
       "      <th>Open</th>\n",
       "      <th>High</th>\n",
       "      <th>Low</th>\n",
       "      <th>Close</th>\n",
       "      <th>Adj Close</th>\n",
       "      <th>Volume</th>\n",
       "    </tr>\n",
       "    <tr>\n",
       "      <th>Date</th>\n",
       "      <th></th>\n",
       "      <th></th>\n",
       "      <th></th>\n",
       "      <th></th>\n",
       "      <th></th>\n",
       "      <th></th>\n",
       "    </tr>\n",
       "  </thead>\n",
       "  <tbody>\n",
       "    <tr>\n",
       "      <th>2010-12-31</th>\n",
       "      <td>1.076000</td>\n",
       "      <td>1.108667</td>\n",
       "      <td>0.998667</td>\n",
       "      <td>1.053333</td>\n",
       "      <td>1.053333</td>\n",
       "      <td>1777500</td>\n",
       "    </tr>\n",
       "    <tr>\n",
       "      <th>2011-12-31</th>\n",
       "      <td>1.452000</td>\n",
       "      <td>1.484667</td>\n",
       "      <td>1.407333</td>\n",
       "      <td>1.455333</td>\n",
       "      <td>1.455333</td>\n",
       "      <td>3594000</td>\n",
       "    </tr>\n",
       "    <tr>\n",
       "      <th>2012-12-31</th>\n",
       "      <td>1.774667</td>\n",
       "      <td>1.790000</td>\n",
       "      <td>1.509333</td>\n",
       "      <td>1.519333</td>\n",
       "      <td>1.519333</td>\n",
       "      <td>5473500</td>\n",
       "    </tr>\n",
       "    <tr>\n",
       "      <th>2013-12-31</th>\n",
       "      <td>2.205333</td>\n",
       "      <td>2.225333</td>\n",
       "      <td>2.140667</td>\n",
       "      <td>2.194000</td>\n",
       "      <td>2.194000</td>\n",
       "      <td>6603000</td>\n",
       "    </tr>\n",
       "    <tr>\n",
       "      <th>2014-12-31</th>\n",
       "      <td>9.366667</td>\n",
       "      <td>9.800000</td>\n",
       "      <td>9.111333</td>\n",
       "      <td>9.289333</td>\n",
       "      <td>9.289333</td>\n",
       "      <td>19983000</td>\n",
       "    </tr>\n",
       "    <tr>\n",
       "      <th>2015-12-31</th>\n",
       "      <td>12.388667</td>\n",
       "      <td>12.619333</td>\n",
       "      <td>12.093333</td>\n",
       "      <td>12.333333</td>\n",
       "      <td>12.333333</td>\n",
       "      <td>10620000</td>\n",
       "    </tr>\n",
       "    <tr>\n",
       "      <th>2016-12-31</th>\n",
       "      <td>9.488000</td>\n",
       "      <td>10.331333</td>\n",
       "      <td>9.403333</td>\n",
       "      <td>9.578000</td>\n",
       "      <td>9.578000</td>\n",
       "      <td>24892500</td>\n",
       "    </tr>\n",
       "    <tr>\n",
       "      <th>2017-12-31</th>\n",
       "      <td>14.316667</td>\n",
       "      <td>14.688667</td>\n",
       "      <td>14.064000</td>\n",
       "      <td>14.466000</td>\n",
       "      <td>14.466000</td>\n",
       "      <td>32800500</td>\n",
       "    </tr>\n",
       "    <tr>\n",
       "      <th>2018-12-31</th>\n",
       "      <td>16.851999</td>\n",
       "      <td>17.355333</td>\n",
       "      <td>16.306000</td>\n",
       "      <td>16.704000</td>\n",
       "      <td>16.704000</td>\n",
       "      <td>46210500</td>\n",
       "    </tr>\n",
       "    <tr>\n",
       "      <th>2019-12-31</th>\n",
       "      <td>12.073333</td>\n",
       "      <td>12.445333</td>\n",
       "      <td>11.799333</td>\n",
       "      <td>11.931333</td>\n",
       "      <td>11.931333</td>\n",
       "      <td>36984000</td>\n",
       "    </tr>\n",
       "    <tr>\n",
       "      <th>2020-12-31</th>\n",
       "      <td>24.980000</td>\n",
       "      <td>26.990667</td>\n",
       "      <td>23.367332</td>\n",
       "      <td>24.081333</td>\n",
       "      <td>24.081333</td>\n",
       "      <td>52073100</td>\n",
       "    </tr>\n",
       "    <tr>\n",
       "      <th>2021-12-31</th>\n",
       "      <td>184.183334</td>\n",
       "      <td>188.736664</td>\n",
       "      <td>179.830002</td>\n",
       "      <td>187.666672</td>\n",
       "      <td>187.666672</td>\n",
       "      <td>29401800</td>\n",
       "    </tr>\n",
       "    <tr>\n",
       "      <th>2022-12-31</th>\n",
       "      <td>110.349998</td>\n",
       "      <td>116.269997</td>\n",
       "      <td>108.239998</td>\n",
       "      <td>109.099998</td>\n",
       "      <td>109.099998</td>\n",
       "      <td>41864700</td>\n",
       "    </tr>\n",
       "    <tr>\n",
       "      <th>2023-12-31</th>\n",
       "      <td>103.000000</td>\n",
       "      <td>111.750000</td>\n",
       "      <td>101.809998</td>\n",
       "      <td>108.099998</td>\n",
       "      <td>108.099998</td>\n",
       "      <td>65125200</td>\n",
       "    </tr>\n",
       "    <tr>\n",
       "      <th>2024-12-31</th>\n",
       "      <td>140.559998</td>\n",
       "      <td>144.440002</td>\n",
       "      <td>138.800003</td>\n",
       "      <td>142.050003</td>\n",
       "      <td>142.050003</td>\n",
       "      <td>50869700</td>\n",
       "    </tr>\n",
       "  </tbody>\n",
       "</table>\n",
       "</div>"
      ],
      "text/plain": [
       "                  Open        High         Low       Close   Adj Close  \\\n",
       "Date                                                                     \n",
       "2010-12-31    1.076000    1.108667    0.998667    1.053333    1.053333   \n",
       "2011-12-31    1.452000    1.484667    1.407333    1.455333    1.455333   \n",
       "2012-12-31    1.774667    1.790000    1.509333    1.519333    1.519333   \n",
       "2013-12-31    2.205333    2.225333    2.140667    2.194000    2.194000   \n",
       "2014-12-31    9.366667    9.800000    9.111333    9.289333    9.289333   \n",
       "2015-12-31   12.388667   12.619333   12.093333   12.333333   12.333333   \n",
       "2016-12-31    9.488000   10.331333    9.403333    9.578000    9.578000   \n",
       "2017-12-31   14.316667   14.688667   14.064000   14.466000   14.466000   \n",
       "2018-12-31   16.851999   17.355333   16.306000   16.704000   16.704000   \n",
       "2019-12-31   12.073333   12.445333   11.799333   11.931333   11.931333   \n",
       "2020-12-31   24.980000   26.990667   23.367332   24.081333   24.081333   \n",
       "2021-12-31  184.183334  188.736664  179.830002  187.666672  187.666672   \n",
       "2022-12-31  110.349998  116.269997  108.239998  109.099998  109.099998   \n",
       "2023-12-31  103.000000  111.750000  101.809998  108.099998  108.099998   \n",
       "2024-12-31  140.559998  144.440002  138.800003  142.050003  142.050003   \n",
       "\n",
       "              Volume  \n",
       "Date                  \n",
       "2010-12-31   1777500  \n",
       "2011-12-31   3594000  \n",
       "2012-12-31   5473500  \n",
       "2013-12-31   6603000  \n",
       "2014-12-31  19983000  \n",
       "2015-12-31  10620000  \n",
       "2016-12-31  24892500  \n",
       "2017-12-31  32800500  \n",
       "2018-12-31  46210500  \n",
       "2019-12-31  36984000  \n",
       "2020-12-31  52073100  \n",
       "2021-12-31  29401800  \n",
       "2022-12-31  41864700  \n",
       "2023-12-31  65125200  \n",
       "2024-12-31  50869700  "
      ]
     },
     "execution_count": 122,
     "metadata": {},
     "output_type": "execute_result"
    }
   ],
   "source": [
    "tsla.resample(rule='YE').min()"
   ]
  },
  {
   "cell_type": "code",
   "execution_count": 126,
   "id": "c133f42a-d47c-41a8-aa61-9bb58e47fd68",
   "metadata": {},
   "outputs": [
    {
     "data": {
      "text/html": [
       "<div>\n",
       "<style scoped>\n",
       "    .dataframe tbody tr th:only-of-type {\n",
       "        vertical-align: middle;\n",
       "    }\n",
       "\n",
       "    .dataframe tbody tr th {\n",
       "        vertical-align: top;\n",
       "    }\n",
       "\n",
       "    .dataframe thead th {\n",
       "        text-align: right;\n",
       "    }\n",
       "</style>\n",
       "<table border=\"1\" class=\"dataframe\">\n",
       "  <thead>\n",
       "    <tr style=\"text-align: right;\">\n",
       "      <th></th>\n",
       "      <th>Open</th>\n",
       "      <th>High</th>\n",
       "      <th>Low</th>\n",
       "      <th>Close</th>\n",
       "      <th>Adj Close</th>\n",
       "      <th>Volume</th>\n",
       "    </tr>\n",
       "    <tr>\n",
       "      <th>Date</th>\n",
       "      <th></th>\n",
       "      <th></th>\n",
       "      <th></th>\n",
       "      <th></th>\n",
       "      <th></th>\n",
       "      <th></th>\n",
       "    </tr>\n",
       "  </thead>\n",
       "  <tbody>\n",
       "    <tr>\n",
       "      <th>2010-12-31</th>\n",
       "      <td>2.391333</td>\n",
       "      <td>2.428000</td>\n",
       "      <td>2.316667</td>\n",
       "      <td>2.364667</td>\n",
       "      <td>2.364667</td>\n",
       "      <td>281494500</td>\n",
       "    </tr>\n",
       "    <tr>\n",
       "      <th>2011-12-31</th>\n",
       "      <td>2.308667</td>\n",
       "      <td>2.333333</td>\n",
       "      <td>2.268667</td>\n",
       "      <td>2.329333</td>\n",
       "      <td>2.329333</td>\n",
       "      <td>172767000</td>\n",
       "    </tr>\n",
       "    <tr>\n",
       "      <th>2012-12-31</th>\n",
       "      <td>2.546000</td>\n",
       "      <td>2.663333</td>\n",
       "      <td>2.474000</td>\n",
       "      <td>2.534000</td>\n",
       "      <td>2.534000</td>\n",
       "      <td>85206000</td>\n",
       "    </tr>\n",
       "    <tr>\n",
       "      <th>2013-12-31</th>\n",
       "      <td>12.930667</td>\n",
       "      <td>12.966667</td>\n",
       "      <td>12.558000</td>\n",
       "      <td>12.891333</td>\n",
       "      <td>12.891333</td>\n",
       "      <td>557458500</td>\n",
       "    </tr>\n",
       "    <tr>\n",
       "      <th>2014-12-31</th>\n",
       "      <td>19.177999</td>\n",
       "      <td>19.427999</td>\n",
       "      <td>18.693333</td>\n",
       "      <td>19.069332</td>\n",
       "      <td>19.069332</td>\n",
       "      <td>490225500</td>\n",
       "    </tr>\n",
       "    <tr>\n",
       "      <th>2015-12-31</th>\n",
       "      <td>18.680000</td>\n",
       "      <td>19.110001</td>\n",
       "      <td>18.420000</td>\n",
       "      <td>18.817333</td>\n",
       "      <td>18.817333</td>\n",
       "      <td>234744000</td>\n",
       "    </tr>\n",
       "    <tr>\n",
       "      <th>2016-12-31</th>\n",
       "      <td>17.763332</td>\n",
       "      <td>17.955999</td>\n",
       "      <td>16.967333</td>\n",
       "      <td>17.694668</td>\n",
       "      <td>17.694668</td>\n",
       "      <td>356136000</td>\n",
       "    </tr>\n",
       "    <tr>\n",
       "      <th>2017-12-31</th>\n",
       "      <td>25.779333</td>\n",
       "      <td>25.974001</td>\n",
       "      <td>25.290001</td>\n",
       "      <td>25.666668</td>\n",
       "      <td>25.666668</td>\n",
       "      <td>296871000</td>\n",
       "    </tr>\n",
       "    <tr>\n",
       "      <th>2018-12-31</th>\n",
       "      <td>25.000000</td>\n",
       "      <td>25.830667</td>\n",
       "      <td>24.474667</td>\n",
       "      <td>25.304667</td>\n",
       "      <td>25.304667</td>\n",
       "      <td>504745500</td>\n",
       "    </tr>\n",
       "    <tr>\n",
       "      <th>2019-12-31</th>\n",
       "      <td>29.000000</td>\n",
       "      <td>29.020666</td>\n",
       "      <td>28.423332</td>\n",
       "      <td>28.729334</td>\n",
       "      <td>28.729334</td>\n",
       "      <td>450091500</td>\n",
       "    </tr>\n",
       "    <tr>\n",
       "      <th>2020-12-31</th>\n",
       "      <td>233.330002</td>\n",
       "      <td>239.573334</td>\n",
       "      <td>230.373337</td>\n",
       "      <td>235.223328</td>\n",
       "      <td>235.223328</td>\n",
       "      <td>914082000</td>\n",
       "    </tr>\n",
       "    <tr>\n",
       "      <th>2021-12-31</th>\n",
       "      <td>411.470001</td>\n",
       "      <td>414.496674</td>\n",
       "      <td>405.666656</td>\n",
       "      <td>409.970001</td>\n",
       "      <td>409.970001</td>\n",
       "      <td>268189500</td>\n",
       "    </tr>\n",
       "    <tr>\n",
       "      <th>2022-12-31</th>\n",
       "      <td>396.516663</td>\n",
       "      <td>402.666656</td>\n",
       "      <td>378.679993</td>\n",
       "      <td>399.926666</td>\n",
       "      <td>399.926666</td>\n",
       "      <td>221923300</td>\n",
       "    </tr>\n",
       "    <tr>\n",
       "      <th>2023-12-31</th>\n",
       "      <td>296.040009</td>\n",
       "      <td>299.290009</td>\n",
       "      <td>289.519989</td>\n",
       "      <td>293.339996</td>\n",
       "      <td>293.339996</td>\n",
       "      <td>306590600</td>\n",
       "    </tr>\n",
       "    <tr>\n",
       "      <th>2024-12-31</th>\n",
       "      <td>263.299988</td>\n",
       "      <td>271.000000</td>\n",
       "      <td>257.859985</td>\n",
       "      <td>263.260010</td>\n",
       "      <td>263.260010</td>\n",
       "      <td>243869700</td>\n",
       "    </tr>\n",
       "  </tbody>\n",
       "</table>\n",
       "</div>"
      ],
      "text/plain": [
       "                  Open        High         Low       Close   Adj Close  \\\n",
       "Date                                                                     \n",
       "2010-12-31    2.391333    2.428000    2.316667    2.364667    2.364667   \n",
       "2011-12-31    2.308667    2.333333    2.268667    2.329333    2.329333   \n",
       "2012-12-31    2.546000    2.663333    2.474000    2.534000    2.534000   \n",
       "2013-12-31   12.930667   12.966667   12.558000   12.891333   12.891333   \n",
       "2014-12-31   19.177999   19.427999   18.693333   19.069332   19.069332   \n",
       "2015-12-31   18.680000   19.110001   18.420000   18.817333   18.817333   \n",
       "2016-12-31   17.763332   17.955999   16.967333   17.694668   17.694668   \n",
       "2017-12-31   25.779333   25.974001   25.290001   25.666668   25.666668   \n",
       "2018-12-31   25.000000   25.830667   24.474667   25.304667   25.304667   \n",
       "2019-12-31   29.000000   29.020666   28.423332   28.729334   28.729334   \n",
       "2020-12-31  233.330002  239.573334  230.373337  235.223328  235.223328   \n",
       "2021-12-31  411.470001  414.496674  405.666656  409.970001  409.970001   \n",
       "2022-12-31  396.516663  402.666656  378.679993  399.926666  399.926666   \n",
       "2023-12-31  296.040009  299.290009  289.519989  293.339996  293.339996   \n",
       "2024-12-31  263.299988  271.000000  257.859985  263.260010  263.260010   \n",
       "\n",
       "               Volume  \n",
       "Date                   \n",
       "2010-12-31  281494500  \n",
       "2011-12-31  172767000  \n",
       "2012-12-31   85206000  \n",
       "2013-12-31  557458500  \n",
       "2014-12-31  490225500  \n",
       "2015-12-31  234744000  \n",
       "2016-12-31  356136000  \n",
       "2017-12-31  296871000  \n",
       "2018-12-31  504745500  \n",
       "2019-12-31  450091500  \n",
       "2020-12-31  914082000  \n",
       "2021-12-31  268189500  \n",
       "2022-12-31  221923300  \n",
       "2023-12-31  306590600  \n",
       "2024-12-31  243869700  "
      ]
     },
     "execution_count": 126,
     "metadata": {},
     "output_type": "execute_result"
    }
   ],
   "source": [
    "tsla.resample(rule='YE').max()"
   ]
  },
  {
   "cell_type": "code",
   "execution_count": 150,
   "id": "402f9feb-9606-4442-a5b2-2a85db9136cd",
   "metadata": {},
   "outputs": [
    {
     "data": {
      "image/png": "[encoded data removed]",
      "text/plain": [
       "<Figure size 640x480 with 1 Axes>"
      ]
     },
     "metadata": {},
     "output_type": "display_data"
    }
   ],
   "source": [
    "tsla.resample(rule='YE').max()['Open'].plot()\n",
    "plt.show()"
   ]
  },
  {
   "cell_type": "code",
   "execution_count": 146,
   "id": "55b9926f-bdd9-4ece-b64a-4560c4768a42",
   "metadata": {},
   "outputs": [
    {
     "data": {
      "image/png": "[encoded data removed]",
      "text/plain": [
       "<Figure size 640x480 with 1 Axes>"
      ]
     },
     "metadata": {},
     "output_type": "display_data"
    }
   ],
   "source": [
    "#IF YOU WANT QUATARLY START FREQUENCY\n",
    "tsla.resample(rule='QS').max() ['High'].plot()\n",
    "plt.show()\n",
    "\n"
   ]
  },
  {
   "cell_type": "code",
   "execution_count": 154,
   "id": "2e521e37-f971-488d-bd9e-18d945f7be84",
   "metadata": {},
   "outputs": [
    {
     "data": {
      "image/png": "[encoded data removed]",
      "text/plain": [
       "<Figure size 640x480 with 1 Axes>"
      ]
     },
     "metadata": {},
     "output_type": "display_data"
    }
   ],
   "source": [
    "#BUSINESS END FREQUENCY \n",
    "tsla.resample(rule='BYE').max() ['High'].plot()\n",
    "plt.show()\n"
   ]
  },
  {
   "cell_type": "code",
   "execution_count": 164,
   "id": "111bb460-1273-443a-930f-ac2fb6ea6b09",
   "metadata": {},
   "outputs": [
    {
     "data": {
      "image/png": "[encoded data removed]",
      "text/plain": [
       "<Figure size 640x480 with 1 Axes>"
      ]
     },
     "metadata": {},
     "output_type": "display_data"
    }
   ],
   "source": [
    "tsla['Open'].resample(rule='BYE').mean().plot(kind='bar')\n",
    "plt.show()"
   ]
  },
  {
   "cell_type": "code",
   "execution_count": 168,
   "id": "83a9b5e4-931d-4395-b438-102eaedac6ea",
   "metadata": {},
   "outputs": [
    {
     "data": {
      "text/plain": [
       "Date\n",
       "2010-06-29        NaN\n",
       "2010-06-30        NaN\n",
       "2010-07-01        NaN\n",
       "2010-07-02        NaN\n",
       "2010-07-06        NaN\n",
       "               ...   \n",
       "2024-08-30    219.819\n",
       "2024-09-03    219.511\n",
       "2024-09-04    218.911\n",
       "2024-09-05    219.945\n",
       "2024-09-06    220.825\n",
       "Name: High, Length: 3572, dtype: float64"
      ]
     },
     "execution_count": 168,
     "metadata": {},
     "output_type": "execute_result"
    }
   ],
   "source": [
    "tsla['High'].rolling(10).mean()"
   ]
  },
  {
   "cell_type": "code",
   "execution_count": 170,
   "id": "a9231138-172b-44e1-be83-37c940bf6fc6",
   "metadata": {},
   "outputs": [
    {
     "data": {
      "text/html": [
       "<div>\n",
       "<style scoped>\n",
       "    .dataframe tbody tr th:only-of-type {\n",
       "        vertical-align: middle;\n",
       "    }\n",
       "\n",
       "    .dataframe tbody tr th {\n",
       "        vertical-align: top;\n",
       "    }\n",
       "\n",
       "    .dataframe thead th {\n",
       "        text-align: right;\n",
       "    }\n",
       "</style>\n",
       "<table border=\"1\" class=\"dataframe\">\n",
       "  <thead>\n",
       "    <tr style=\"text-align: right;\">\n",
       "      <th></th>\n",
       "      <th>Open</th>\n",
       "      <th>High</th>\n",
       "      <th>Low</th>\n",
       "      <th>Close</th>\n",
       "      <th>Adj Close</th>\n",
       "      <th>Volume</th>\n",
       "    </tr>\n",
       "    <tr>\n",
       "      <th>Date</th>\n",
       "      <th></th>\n",
       "      <th></th>\n",
       "      <th></th>\n",
       "      <th></th>\n",
       "      <th></th>\n",
       "      <th></th>\n",
       "    </tr>\n",
       "  </thead>\n",
       "  <tbody>\n",
       "    <tr>\n",
       "      <th>2010-06-29</th>\n",
       "      <td>1.266667</td>\n",
       "      <td>1.666667</td>\n",
       "      <td>1.169333</td>\n",
       "      <td>1.592667</td>\n",
       "      <td>1.592667</td>\n",
       "      <td>281494500</td>\n",
       "    </tr>\n",
       "    <tr>\n",
       "      <th>2010-06-30</th>\n",
       "      <td>1.719333</td>\n",
       "      <td>2.028000</td>\n",
       "      <td>1.553333</td>\n",
       "      <td>1.588667</td>\n",
       "      <td>1.588667</td>\n",
       "      <td>257806500</td>\n",
       "    </tr>\n",
       "    <tr>\n",
       "      <th>2010-07-01</th>\n",
       "      <td>1.666667</td>\n",
       "      <td>1.728000</td>\n",
       "      <td>1.351333</td>\n",
       "      <td>1.464000</td>\n",
       "      <td>1.464000</td>\n",
       "      <td>123282000</td>\n",
       "    </tr>\n",
       "    <tr>\n",
       "      <th>2010-07-02</th>\n",
       "      <td>1.533333</td>\n",
       "      <td>1.540000</td>\n",
       "      <td>1.247333</td>\n",
       "      <td>1.280000</td>\n",
       "      <td>1.280000</td>\n",
       "      <td>77097000</td>\n",
       "    </tr>\n",
       "    <tr>\n",
       "      <th>2010-07-06</th>\n",
       "      <td>1.333333</td>\n",
       "      <td>1.333333</td>\n",
       "      <td>1.055333</td>\n",
       "      <td>1.074000</td>\n",
       "      <td>1.074000</td>\n",
       "      <td>103003500</td>\n",
       "    </tr>\n",
       "  </tbody>\n",
       "</table>\n",
       "</div>"
      ],
      "text/plain": [
       "                Open      High       Low     Close  Adj Close     Volume\n",
       "Date                                                                    \n",
       "2010-06-29  1.266667  1.666667  1.169333  1.592667   1.592667  281494500\n",
       "2010-06-30  1.719333  2.028000  1.553333  1.588667   1.588667  257806500\n",
       "2010-07-01  1.666667  1.728000  1.351333  1.464000   1.464000  123282000\n",
       "2010-07-02  1.533333  1.540000  1.247333  1.280000   1.280000   77097000\n",
       "2010-07-06  1.333333  1.333333  1.055333  1.074000   1.074000  103003500"
      ]
     },
     "execution_count": 170,
     "metadata": {},
     "output_type": "execute_result"
    }
   ],
   "source": [
    "tsla.head()"
   ]
  },
  {
   "cell_type": "code",
   "execution_count": 172,
   "id": "ed9ff065-a595-4e0d-8211-8fede9e72876",
   "metadata": {},
   "outputs": [],
   "source": [
    "tsla['Open:30 days rolling']=tsla['Open'].rolling(30).mean()"
   ]
  },
  {
   "cell_type": "code",
   "execution_count": 176,
   "id": "d3237ed0-e1a8-4153-a354-7a171cb93d1b",
   "metadata": {},
   "outputs": [
    {
     "data": {
      "text/html": [
       "<div>\n",
       "<style scoped>\n",
       "    .dataframe tbody tr th:only-of-type {\n",
       "        vertical-align: middle;\n",
       "    }\n",
       "\n",
       "    .dataframe tbody tr th {\n",
       "        vertical-align: top;\n",
       "    }\n",
       "\n",
       "    .dataframe thead th {\n",
       "        text-align: right;\n",
       "    }\n",
       "</style>\n",
       "<table border=\"1\" class=\"dataframe\">\n",
       "  <thead>\n",
       "    <tr style=\"text-align: right;\">\n",
       "      <th></th>\n",
       "      <th>Open</th>\n",
       "      <th>High</th>\n",
       "      <th>Low</th>\n",
       "      <th>Close</th>\n",
       "      <th>Adj Close</th>\n",
       "      <th>Volume</th>\n",
       "      <th>Open:30 days rolling</th>\n",
       "    </tr>\n",
       "    <tr>\n",
       "      <th>Date</th>\n",
       "      <th></th>\n",
       "      <th></th>\n",
       "      <th></th>\n",
       "      <th></th>\n",
       "      <th></th>\n",
       "      <th></th>\n",
       "      <th></th>\n",
       "    </tr>\n",
       "  </thead>\n",
       "  <tbody>\n",
       "    <tr>\n",
       "      <th>2010-06-29</th>\n",
       "      <td>1.266667</td>\n",
       "      <td>1.666667</td>\n",
       "      <td>1.169333</td>\n",
       "      <td>1.592667</td>\n",
       "      <td>1.592667</td>\n",
       "      <td>281494500</td>\n",
       "      <td>NaN</td>\n",
       "    </tr>\n",
       "    <tr>\n",
       "      <th>2010-06-30</th>\n",
       "      <td>1.719333</td>\n",
       "      <td>2.028000</td>\n",
       "      <td>1.553333</td>\n",
       "      <td>1.588667</td>\n",
       "      <td>1.588667</td>\n",
       "      <td>257806500</td>\n",
       "      <td>NaN</td>\n",
       "    </tr>\n",
       "    <tr>\n",
       "      <th>2010-07-01</th>\n",
       "      <td>1.666667</td>\n",
       "      <td>1.728000</td>\n",
       "      <td>1.351333</td>\n",
       "      <td>1.464000</td>\n",
       "      <td>1.464000</td>\n",
       "      <td>123282000</td>\n",
       "      <td>NaN</td>\n",
       "    </tr>\n",
       "    <tr>\n",
       "      <th>2010-07-02</th>\n",
       "      <td>1.533333</td>\n",
       "      <td>1.540000</td>\n",
       "      <td>1.247333</td>\n",
       "      <td>1.280000</td>\n",
       "      <td>1.280000</td>\n",
       "      <td>77097000</td>\n",
       "      <td>NaN</td>\n",
       "    </tr>\n",
       "    <tr>\n",
       "      <th>2010-07-06</th>\n",
       "      <td>1.333333</td>\n",
       "      <td>1.333333</td>\n",
       "      <td>1.055333</td>\n",
       "      <td>1.074000</td>\n",
       "      <td>1.074000</td>\n",
       "      <td>103003500</td>\n",
       "      <td>NaN</td>\n",
       "    </tr>\n",
       "    <tr>\n",
       "      <th>2010-07-07</th>\n",
       "      <td>1.093333</td>\n",
       "      <td>1.108667</td>\n",
       "      <td>0.998667</td>\n",
       "      <td>1.053333</td>\n",
       "      <td>1.053333</td>\n",
       "      <td>103825500</td>\n",
       "      <td>NaN</td>\n",
       "    </tr>\n",
       "    <tr>\n",
       "      <th>2010-07-08</th>\n",
       "      <td>1.076000</td>\n",
       "      <td>1.168000</td>\n",
       "      <td>1.038000</td>\n",
       "      <td>1.164000</td>\n",
       "      <td>1.164000</td>\n",
       "      <td>115671000</td>\n",
       "      <td>NaN</td>\n",
       "    </tr>\n",
       "    <tr>\n",
       "      <th>2010-07-09</th>\n",
       "      <td>1.172000</td>\n",
       "      <td>1.193333</td>\n",
       "      <td>1.103333</td>\n",
       "      <td>1.160000</td>\n",
       "      <td>1.160000</td>\n",
       "      <td>60759000</td>\n",
       "      <td>NaN</td>\n",
       "    </tr>\n",
       "    <tr>\n",
       "      <th>2010-07-12</th>\n",
       "      <td>1.196667</td>\n",
       "      <td>1.204667</td>\n",
       "      <td>1.133333</td>\n",
       "      <td>1.136667</td>\n",
       "      <td>1.136667</td>\n",
       "      <td>33037500</td>\n",
       "      <td>NaN</td>\n",
       "    </tr>\n",
       "    <tr>\n",
       "      <th>2010-07-13</th>\n",
       "      <td>1.159333</td>\n",
       "      <td>1.242667</td>\n",
       "      <td>1.126667</td>\n",
       "      <td>1.209333</td>\n",
       "      <td>1.209333</td>\n",
       "      <td>40201500</td>\n",
       "      <td>NaN</td>\n",
       "    </tr>\n",
       "    <tr>\n",
       "      <th>2010-07-14</th>\n",
       "      <td>1.196000</td>\n",
       "      <td>1.343333</td>\n",
       "      <td>1.184000</td>\n",
       "      <td>1.322667</td>\n",
       "      <td>1.322667</td>\n",
       "      <td>62928000</td>\n",
       "      <td>NaN</td>\n",
       "    </tr>\n",
       "    <tr>\n",
       "      <th>2010-07-15</th>\n",
       "      <td>1.329333</td>\n",
       "      <td>1.433333</td>\n",
       "      <td>1.266667</td>\n",
       "      <td>1.326000</td>\n",
       "      <td>1.326000</td>\n",
       "      <td>56097000</td>\n",
       "      <td>NaN</td>\n",
       "    </tr>\n",
       "    <tr>\n",
       "      <th>2010-07-16</th>\n",
       "      <td>1.380000</td>\n",
       "      <td>1.420000</td>\n",
       "      <td>1.336667</td>\n",
       "      <td>1.376000</td>\n",
       "      <td>1.376000</td>\n",
       "      <td>39319500</td>\n",
       "      <td>NaN</td>\n",
       "    </tr>\n",
       "    <tr>\n",
       "      <th>2010-07-19</th>\n",
       "      <td>1.424667</td>\n",
       "      <td>1.483333</td>\n",
       "      <td>1.394667</td>\n",
       "      <td>1.460667</td>\n",
       "      <td>1.460667</td>\n",
       "      <td>37297500</td>\n",
       "      <td>NaN</td>\n",
       "    </tr>\n",
       "    <tr>\n",
       "      <th>2010-07-20</th>\n",
       "      <td>1.456667</td>\n",
       "      <td>1.456667</td>\n",
       "      <td>1.336667</td>\n",
       "      <td>1.353333</td>\n",
       "      <td>1.353333</td>\n",
       "      <td>27379500</td>\n",
       "      <td>NaN</td>\n",
       "    </tr>\n",
       "    <tr>\n",
       "      <th>2010-07-21</th>\n",
       "      <td>1.377333</td>\n",
       "      <td>1.393333</td>\n",
       "      <td>1.300000</td>\n",
       "      <td>1.348000</td>\n",
       "      <td>1.348000</td>\n",
       "      <td>18787500</td>\n",
       "      <td>NaN</td>\n",
       "    </tr>\n",
       "    <tr>\n",
       "      <th>2010-07-22</th>\n",
       "      <td>1.366667</td>\n",
       "      <td>1.416667</td>\n",
       "      <td>1.358000</td>\n",
       "      <td>1.400000</td>\n",
       "      <td>1.400000</td>\n",
       "      <td>14367000</td>\n",
       "      <td>NaN</td>\n",
       "    </tr>\n",
       "    <tr>\n",
       "      <th>2010-07-23</th>\n",
       "      <td>1.412667</td>\n",
       "      <td>1.437333</td>\n",
       "      <td>1.404000</td>\n",
       "      <td>1.419333</td>\n",
       "      <td>1.419333</td>\n",
       "      <td>9804000</td>\n",
       "      <td>NaN</td>\n",
       "    </tr>\n",
       "    <tr>\n",
       "      <th>2010-07-26</th>\n",
       "      <td>1.433333</td>\n",
       "      <td>1.433333</td>\n",
       "      <td>1.353333</td>\n",
       "      <td>1.396667</td>\n",
       "      <td>1.396667</td>\n",
       "      <td>13833000</td>\n",
       "      <td>NaN</td>\n",
       "    </tr>\n",
       "    <tr>\n",
       "      <th>2010-07-27</th>\n",
       "      <td>1.394000</td>\n",
       "      <td>1.412000</td>\n",
       "      <td>1.350667</td>\n",
       "      <td>1.370000</td>\n",
       "      <td>1.370000</td>\n",
       "      <td>9295500</td>\n",
       "      <td>NaN</td>\n",
       "    </tr>\n",
       "    <tr>\n",
       "      <th>2010-07-28</th>\n",
       "      <td>1.370000</td>\n",
       "      <td>1.393333</td>\n",
       "      <td>1.367333</td>\n",
       "      <td>1.381333</td>\n",
       "      <td>1.381333</td>\n",
       "      <td>7008000</td>\n",
       "      <td>NaN</td>\n",
       "    </tr>\n",
       "    <tr>\n",
       "      <th>2010-07-29</th>\n",
       "      <td>1.384667</td>\n",
       "      <td>1.392000</td>\n",
       "      <td>1.333333</td>\n",
       "      <td>1.356667</td>\n",
       "      <td>1.356667</td>\n",
       "      <td>9240000</td>\n",
       "      <td>NaN</td>\n",
       "    </tr>\n",
       "    <tr>\n",
       "      <th>2010-07-30</th>\n",
       "      <td>1.346667</td>\n",
       "      <td>1.362667</td>\n",
       "      <td>1.303333</td>\n",
       "      <td>1.329333</td>\n",
       "      <td>1.329333</td>\n",
       "      <td>6403500</td>\n",
       "      <td>NaN</td>\n",
       "    </tr>\n",
       "    <tr>\n",
       "      <th>2010-08-02</th>\n",
       "      <td>1.366667</td>\n",
       "      <td>1.398000</td>\n",
       "      <td>1.355333</td>\n",
       "      <td>1.394667</td>\n",
       "      <td>1.394667</td>\n",
       "      <td>10771500</td>\n",
       "      <td>NaN</td>\n",
       "    </tr>\n",
       "    <tr>\n",
       "      <th>2010-08-03</th>\n",
       "      <td>1.400000</td>\n",
       "      <td>1.463333</td>\n",
       "      <td>1.388000</td>\n",
       "      <td>1.463333</td>\n",
       "      <td>1.463333</td>\n",
       "      <td>18457500</td>\n",
       "      <td>NaN</td>\n",
       "    </tr>\n",
       "    <tr>\n",
       "      <th>2010-08-04</th>\n",
       "      <td>1.463333</td>\n",
       "      <td>1.478667</td>\n",
       "      <td>1.390000</td>\n",
       "      <td>1.417333</td>\n",
       "      <td>1.417333</td>\n",
       "      <td>13695000</td>\n",
       "      <td>NaN</td>\n",
       "    </tr>\n",
       "    <tr>\n",
       "      <th>2010-08-05</th>\n",
       "      <td>1.436000</td>\n",
       "      <td>1.436667</td>\n",
       "      <td>1.336667</td>\n",
       "      <td>1.363333</td>\n",
       "      <td>1.363333</td>\n",
       "      <td>11943000</td>\n",
       "      <td>NaN</td>\n",
       "    </tr>\n",
       "    <tr>\n",
       "      <th>2010-08-06</th>\n",
       "      <td>1.340000</td>\n",
       "      <td>1.344000</td>\n",
       "      <td>1.301333</td>\n",
       "      <td>1.306000</td>\n",
       "      <td>1.306000</td>\n",
       "      <td>11128500</td>\n",
       "      <td>NaN</td>\n",
       "    </tr>\n",
       "    <tr>\n",
       "      <th>2010-08-09</th>\n",
       "      <td>1.326667</td>\n",
       "      <td>1.332000</td>\n",
       "      <td>1.296667</td>\n",
       "      <td>1.306667</td>\n",
       "      <td>1.306667</td>\n",
       "      <td>12190500</td>\n",
       "      <td>NaN</td>\n",
       "    </tr>\n",
       "    <tr>\n",
       "      <th>2010-08-10</th>\n",
       "      <td>1.310000</td>\n",
       "      <td>1.310000</td>\n",
       "      <td>1.254667</td>\n",
       "      <td>1.268667</td>\n",
       "      <td>1.268667</td>\n",
       "      <td>19219500</td>\n",
       "      <td>1.357711</td>\n",
       "    </tr>\n",
       "    <tr>\n",
       "      <th>2010-08-11</th>\n",
       "      <td>1.246000</td>\n",
       "      <td>1.258667</td>\n",
       "      <td>1.190000</td>\n",
       "      <td>1.193333</td>\n",
       "      <td>1.193333</td>\n",
       "      <td>11964000</td>\n",
       "      <td>1.357022</td>\n",
       "    </tr>\n",
       "  </tbody>\n",
       "</table>\n",
       "</div>"
      ],
      "text/plain": [
       "                Open      High       Low     Close  Adj Close     Volume  \\\n",
       "Date                                                                       \n",
       "2010-06-29  1.266667  1.666667  1.169333  1.592667   1.592667  281494500   \n",
       "2010-06-30  1.719333  2.028000  1.553333  1.588667   1.588667  257806500   \n",
       "2010-07-01  1.666667  1.728000  1.351333  1.464000   1.464000  123282000   \n",
       "2010-07-02  1.533333  1.540000  1.247333  1.280000   1.280000   77097000   \n",
       "2010-07-06  1.333333  1.333333  1.055333  1.074000   1.074000  103003500   \n",
       "2010-07-07  1.093333  1.108667  0.998667  1.053333   1.053333  103825500   \n",
       "2010-07-08  1.076000  1.168000  1.038000  1.164000   1.164000  115671000   \n",
       "2010-07-09  1.172000  1.193333  1.103333  1.160000   1.160000   60759000   \n",
       "2010-07-12  1.196667  1.204667  1.133333  1.136667   1.136667   33037500   \n",
       "2010-07-13  1.159333  1.242667  1.126667  1.209333   1.209333   40201500   \n",
       "2010-07-14  1.196000  1.343333  1.184000  1.322667   1.322667   62928000   \n",
       "2010-07-15  1.329333  1.433333  1.266667  1.326000   1.326000   56097000   \n",
       "2010-07-16  1.380000  1.420000  1.336667  1.376000   1.376000   39319500   \n",
       "2010-07-19  1.424667  1.483333  1.394667  1.460667   1.460667   37297500   \n",
       "2010-07-20  1.456667  1.456667  1.336667  1.353333   1.353333   27379500   \n",
       "2010-07-21  1.377333  1.393333  1.300000  1.348000   1.348000   18787500   \n",
       "2010-07-22  1.366667  1.416667  1.358000  1.400000   1.400000   14367000   \n",
       "2010-07-23  1.412667  1.437333  1.404000  1.419333   1.419333    9804000   \n",
       "2010-07-26  1.433333  1.433333  1.353333  1.396667   1.396667   13833000   \n",
       "2010-07-27  1.394000  1.412000  1.350667  1.370000   1.370000    9295500   \n",
       "2010-07-28  1.370000  1.393333  1.367333  1.381333   1.381333    7008000   \n",
       "2010-07-29  1.384667  1.392000  1.333333  1.356667   1.356667    9240000   \n",
       "2010-07-30  1.346667  1.362667  1.303333  1.329333   1.329333    6403500   \n",
       "2010-08-02  1.366667  1.398000  1.355333  1.394667   1.394667   10771500   \n",
       "2010-08-03  1.400000  1.463333  1.388000  1.463333   1.463333   18457500   \n",
       "2010-08-04  1.463333  1.478667  1.390000  1.417333   1.417333   13695000   \n",
       "2010-08-05  1.436000  1.436667  1.336667  1.363333   1.363333   11943000   \n",
       "2010-08-06  1.340000  1.344000  1.301333  1.306000   1.306000   11128500   \n",
       "2010-08-09  1.326667  1.332000  1.296667  1.306667   1.306667   12190500   \n",
       "2010-08-10  1.310000  1.310000  1.254667  1.268667   1.268667   19219500   \n",
       "2010-08-11  1.246000  1.258667  1.190000  1.193333   1.193333   11964000   \n",
       "\n",
       "            Open:30 days rolling  \n",
       "Date                              \n",
       "2010-06-29                   NaN  \n",
       "2010-06-30                   NaN  \n",
       "2010-07-01                   NaN  \n",
       "2010-07-02                   NaN  \n",
       "2010-07-06                   NaN  \n",
       "2010-07-07                   NaN  \n",
       "2010-07-08                   NaN  \n",
       "2010-07-09                   NaN  \n",
       "2010-07-12                   NaN  \n",
       "2010-07-13                   NaN  \n",
       "2010-07-14                   NaN  \n",
       "2010-07-15                   NaN  \n",
       "2010-07-16                   NaN  \n",
       "2010-07-19                   NaN  \n",
       "2010-07-20                   NaN  \n",
       "2010-07-21                   NaN  \n",
       "2010-07-22                   NaN  \n",
       "2010-07-23                   NaN  \n",
       "2010-07-26                   NaN  \n",
       "2010-07-27                   NaN  \n",
       "2010-07-28                   NaN  \n",
       "2010-07-29                   NaN  \n",
       "2010-07-30                   NaN  \n",
       "2010-08-02                   NaN  \n",
       "2010-08-03                   NaN  \n",
       "2010-08-04                   NaN  \n",
       "2010-08-05                   NaN  \n",
       "2010-08-06                   NaN  \n",
       "2010-08-09                   NaN  \n",
       "2010-08-10              1.357711  \n",
       "2010-08-11              1.357022  "
      ]
     },
     "execution_count": 176,
     "metadata": {},
     "output_type": "execute_result"
    }
   ],
   "source": [
    "tsla.head(31)"
   ]
  },
  {
   "cell_type": "code",
   "execution_count": 195,
   "id": "6d1e1c83-cac7-4c4b-9cc1-dc2a61c9977d",
   "metadata": {},
   "outputs": [
    {
     "data": {
      "image/png": "[encoded data removed]",
      "text/plain": [
       "<Figure size 1200x500 with 1 Axes>"
      ]
     },
     "metadata": {},
     "output_type": "display_data"
    }
   ],
   "source": [
    "tsla[['Open','Open:30 days rolling']].plot(figsize=(12,5))\n",
    "plt.show()"
   ]
  },
  {
   "cell_type": "code",
   "execution_count": null,
   "id": "e0eff35d-0e31-4321-8665-a42897811daa",
   "metadata": {},
   "outputs": [],
   "source": []
  },
  {
   "cell_type": "code",
   "execution_count": null,
   "id": "7fcab41d-632f-45db-815b-717acbe4bfbd",
   "metadata": {},
   "outputs": [],
   "source": []
  }
 ],
 "metadata": {
  "kernelspec": {
   "display_name": "Python 3 (ipykernel)",
   "language": "python",
   "name": "python3"
  },
  "language_info": {
   "codemirror_mode": {
    "name": "ipython",
    "version": 3
   },
   "file_extension": ".py",
   "mimetype": "text/x-python",
   "name": "python",
   "nbconvert_exporter": "python",
   "pygments_lexer": "ipython3",
   "version": "3.12.3"
  }
 },
 "nbformat": 4,
 "nbformat_minor": 5
}
